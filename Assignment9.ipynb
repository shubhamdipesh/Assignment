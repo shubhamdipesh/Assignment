{
 "cells": [
  {
   "cell_type": "code",
   "execution_count": 2,
   "id": "bb3d8681",
   "metadata": {},
   "outputs": [],
   "source": [
    "##Ans.1 :- Relative path related  to the current directory location. in relative path we use two symbol i.e. single dot(.) and double dot(..) and these two symbols are used to translate into current and pareent directory."
   ]
  },
  {
   "cell_type": "code",
   "execution_count": 3,
   "id": "319ef483",
   "metadata": {},
   "outputs": [],
   "source": [
    "##Ans.2:-Absolute path  are used in website and operating system fr locating file or folder.absolute path strt with slash symbol i.e (/)"
   ]
  },
  {
   "cell_type": "code",
   "execution_count": 4,
   "id": "b6ea83b4",
   "metadata": {},
   "outputs": [],
   "source": [
    "##Ans.3: os.getcwd() are used to get current working directory and os.childr() are used to change current curretory to a specified path"
   ]
  },
  {
   "cell_type": "code",
   "execution_count": 5,
   "id": "bceacc1b",
   "metadata": {},
   "outputs": [],
   "source": [
    "##Ans.4:- . and .. folders are the folder in which we collect the data into file and folder"
   ]
  },
  {
   "cell_type": "code",
   "execution_count": 6,
   "id": "2ecbc3c7",
   "metadata": {},
   "outputs": [],
   "source": [
    "##Ans.5:-C:\\bacon\\eggs is the dir name and spam.txt is the base name"
   ]
  },
  {
   "cell_type": "code",
   "execution_count": 11,
   "id": "03f754f0",
   "metadata": {},
   "outputs": [],
   "source": [
    "##Ans.6 :-the three different \"mode\" arguments that can be passed to the open function are as follows:\n",
    "        #1.r mode:- r mode is the mode to open function  in read mode only.\n",
    "        #2.rb mode : - rb mode is the mode to open function in read mode in only binary format only\n",
    "        #3. r+ mode:- r+ mode is the mode to open fuvtion in both read and write format only"
   ]
  },
  {
   "cell_type": "code",
   "execution_count": 12,
   "id": "f392e0d8",
   "metadata": {},
   "outputs": [],
   "source": [
    "##Ans7.:- If an existing file is opened in write mode then its congtent are discarded and file is treated as new empty file"
   ]
  },
  {
   "cell_type": "code",
   "execution_count": 13,
   "id": "45b5f446",
   "metadata": {},
   "outputs": [],
   "source": [
    "##Ans.8:- the differene between read() and readlines() are as follows:-\n",
    "         #1. in read(), this will read  whole file and print only first characters.\n",
    "         #2. in readlines() ,this will read and print only first file and first characters."
   ]
  },
  {
   "cell_type": "code",
   "execution_count": 14,
   "id": "209f8e28",
   "metadata": {},
   "outputs": [],
   "source": [
    "##Ans.9:- A shelf values resemble a dictionary value which has Keys() and values(). shelf value works with Keys() and value() methods.Shelf value works as a dictionary which has Key and value"
   ]
  },
  {
   "cell_type": "code",
   "execution_count": null,
   "id": "9309941b",
   "metadata": {},
   "outputs": [],
   "source": []
  }
 ],
 "metadata": {
  "kernelspec": {
   "display_name": "Python 3 (ipykernel)",
   "language": "python",
   "name": "python3"
  },
  "language_info": {
   "codemirror_mode": {
    "name": "ipython",
    "version": 3
   },
   "file_extension": ".py",
   "mimetype": "text/x-python",
   "name": "python",
   "nbconvert_exporter": "python",
   "pygments_lexer": "ipython3",
   "version": "3.9.7"
  }
 },
 "nbformat": 4,
 "nbformat_minor": 5
}
