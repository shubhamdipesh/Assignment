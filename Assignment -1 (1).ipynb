{
 "cells": [
  {
   "cell_type": "code",
   "execution_count": 3,
   "id": "ba04ca3b",
   "metadata": {},
   "outputs": [],
   "source": [
    "#1.-in the given statement 6 is value or expression."
   ]
  },
  {
   "cell_type": "code",
   "execution_count": 4,
   "id": "50c513c3",
   "metadata": {},
   "outputs": [],
   "source": [
    "#2.Difference between string and variable:-when we use \"\" in word,integer,any name and letter then this type is called string type and string has no other type but in variable type there are different type i.e list[],tuple,set,integer and string.string type also comes into variable type.  "
   ]
  },
  {
   "cell_type": "code",
   "execution_count": 7,
   "id": "f4d6a40d",
   "metadata": {},
   "outputs": [],
   "source": [
    "#3.Description of three different type:-\n",
    "                                        #1.String type:-String is the collection of character,when we use \" \" in any number letter and integer value then this data type is known as string type.e.g- \"shubham\",\"23\",\"a\" e.t.c.\n",
    "                                        #2.List type:-list is the collection of characters of multiple object by using [].  e.g.-[1,2,3,\"shubham\",(a,b,c)]\n",
    "                                        #3.tuple type:-tuple is like a list and when we use normal bracket i.e. () then this data type is known as tuple type. e.g.-(\"shubham\",1,2,3,4)\n",
    "           "
   ]
  },
  {
   "cell_type": "code",
   "execution_count": 12,
   "id": "82716650",
   "metadata": {},
   "outputs": [
    {
     "data": {
      "text/plain": [
       "23"
      ]
     },
     "execution_count": 12,
     "metadata": {},
     "output_type": "execute_result"
    }
   ],
   "source": [
    "#6.bacon =22\n",
    "bacon+1\n"
   ]
  },
  {
   "cell_type": "code",
   "execution_count": 13,
   "id": "b46e833e",
   "metadata": {},
   "outputs": [
    {
     "data": {
      "text/plain": [
       "'spamspamspam'"
      ]
     },
     "execution_count": 13,
     "metadata": {},
     "output_type": "execute_result"
    }
   ],
   "source": [
    "#7.'spam'+'spamspam'"
   ]
  },
  {
   "cell_type": "code",
   "execution_count": 14,
   "id": "a53fe700",
   "metadata": {},
   "outputs": [
    {
     "data": {
      "text/plain": [
       "'spamspamspam'"
      ]
     },
     "execution_count": 14,
     "metadata": {},
     "output_type": "execute_result"
    }
   ],
   "source": [
    "#7.'spam'*3"
   ]
  },
  {
   "cell_type": "code",
   "execution_count": 3,
   "id": "ca078683",
   "metadata": {},
   "outputs": [],
   "source": [
    "#.10. This expression cause an eror due to absence od string variable in 99. by using string operator we can fi it .e.g.:-\"I have eaten\"+\"99\"+\"burritos\""
   ]
  },
  {
   "cell_type": "code",
   "execution_count": 5,
   "id": "30d39715",
   "metadata": {},
   "outputs": [],
   "source": [
    "#8. If we get output integer value then this function is called integer and if we get output decimal number then this is called floating point number and when we use string operator \"\" in any value,name e.tc then this is called string version.\n",
    "#.   example of integer:- if a = 5 ,then type of a is integer and if. example of floating point:-if a = 5.6 then type of a is floating type.example of string:-if b = \"shubham\" then the type of b is called string type."
   ]
  },
  {
   "cell_type": "code",
   "execution_count": null,
   "id": "5415f472",
   "metadata": {},
   "outputs": [],
   "source": []
  }
 ],
 "metadata": {
  "kernelspec": {
   "display_name": "Python 3 (ipykernel)",
   "language": "python",
   "name": "python3"
  },
  "language_info": {
   "codemirror_mode": {
    "name": "ipython",
    "version": 3
   },
   "file_extension": ".py",
   "mimetype": "text/x-python",
   "name": "python",
   "nbconvert_exporter": "python",
   "pygments_lexer": "ipython3",
   "version": "3.9.7"
  }
 },
 "nbformat": 4,
 "nbformat_minor": 5
}
