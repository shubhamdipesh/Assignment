{
 "cells": [
  {
   "cell_type": "code",
   "execution_count": 11,
   "id": "40144019",
   "metadata": {},
   "outputs": [],
   "source": [
    "##Ans.1:- the name of the feature responsible for generating regex object is re.compile()"
   ]
  },
  {
   "cell_type": "code",
   "execution_count": 12,
   "id": "8d9a3c72",
   "metadata": {},
   "outputs": [],
   "source": [
    "##Ans.2:-raw stringas often appear in Regex object so that blackslashes do not have to be escaped"
   ]
  },
  {
   "cell_type": "code",
   "execution_count": 13,
   "id": "7f5e3c42",
   "metadata": {},
   "outputs": [],
   "source": [
    "##Ans.3:-the return value of the search() method is -1"
   ]
  },
  {
   "cell_type": "code",
   "execution_count": 14,
   "id": "5368593c",
   "metadata": {},
   "outputs": [],
   "source": [
    "##Ans.4:- A particular syntax of string is used to represent regular expression"
   ]
  },
  {
   "cell_type": "code",
   "execution_count": 15,
   "id": "04b9d127",
   "metadata": {},
   "outputs": [],
   "source": [
    "##Ans.5:-Group zero is the entire match and Group1 covers the first set of parenthesis and Group 2 covers the second set of parentheses"
   ]
  },
  {
   "cell_type": "code",
   "execution_count": 16,
   "id": "a3a81dbc",
   "metadata": {},
   "outputs": [],
   "source": [
    "##Ans.6:Periods and parasynthesis can be escaped with a backslash:\\.,\\(,and\\)."
   ]
  },
  {
   "cell_type": "code",
   "execution_count": 17,
   "id": "f6841012",
   "metadata": {},
   "outputs": [],
   "source": [
    "##Ans.7: if the regex has no groups,a list of string is returned ,if the regex has groups ,a list of tuples of string is returned"
   ]
  },
  {
   "cell_type": "code",
   "execution_count": 18,
   "id": "228d3175",
   "metadata": {},
   "outputs": [],
   "source": [
    "##Ans.8:-I character means I character signifies matching \"either or\" between two groups"
   ]
  },
  {
   "cell_type": "code",
   "execution_count": 19,
   "id": "b630407c",
   "metadata": {},
   "outputs": [],
   "source": [
    "##Ans.9:-In regular expression the  character can either mean \"match zero or one of the preceding group or used to sartisfy nongreeding matching\""
   ]
  },
  {
   "cell_type": "code",
   "execution_count": 20,
   "id": "11b361e9",
   "metadata": {},
   "outputs": [],
   "source": [
    "##Ans.10 ## In regular expression the difference between the + and * characters are as follows:\n",
    "#          the + means matches one or more and the * means matches zero or more"
   ]
  },
  {
   "cell_type": "code",
   "execution_count": 21,
   "id": "0037098e",
   "metadata": {},
   "outputs": [],
   "source": [
    "## Ans.11 The {4} matches exactly four instances of the preceding group.\n",
    "#         The {4,5} matches between for and five instances"
   ]
  },
  {
   "cell_type": "code",
   "execution_count": 22,
   "id": "8494bea1",
   "metadata": {},
   "outputs": [],
   "source": [
    "##Ans.12:-The \\d,\\w ,\\s shorthand character classes matches a single digit,word ,or special characters respectively"
   ]
  },
  {
   "cell_type": "code",
   "execution_count": 23,
   "id": "383f1cc2",
   "metadata": {},
   "outputs": [],
   "source": [
    "##Ans.13:-The \\D ,\\W,\\S shorthand character classes match a single character that is not digit ,word or respectively"
   ]
  },
  {
   "cell_type": "code",
   "execution_count": 24,
   "id": "7d5df927",
   "metadata": {},
   "outputs": [],
   "source": [
    "##Ans.15:-The syntax for matching both numbers and lower caseletters with a character class is Either[0-9a-z] or [a-z0-9]"
   ]
  },
  {
   "cell_type": "code",
   "execution_count": 25,
   "id": "0def2309",
   "metadata": {},
   "outputs": [],
   "source": [
    "##Ans.16:-Passing re.I or re.IGNORECASE as the second argument to re.compile() will make the matching case insensitive"
   ]
  },
  {
   "cell_type": "code",
   "execution_count": 26,
   "id": "1763fb33",
   "metadata": {},
   "outputs": [],
   "source": [
    "##Ans.17:-The .character normally matches any character except the newline character. If re.DOTALL is passed as the second argument to re.compile() then the dot will also match newlines characters "
   ]
  },
  {
   "cell_type": "code",
   "execution_count": 27,
   "id": "01d11bcf",
   "metadata": {},
   "outputs": [],
   "source": [
    "##Ans.18:-X drummers,X-pipers,five rings,X hens"
   ]
  },
  {
   "cell_type": "code",
   "execution_count": 28,
   "id": "f4e18bd7",
   "metadata": {},
   "outputs": [],
   "source": [
    "##Ans.19:The re.VERBOSE argument allows you to add whitespace and comments to the string passed to re.compile"
   ]
  },
  {
   "cell_type": "code",
   "execution_count": 29,
   "id": "dc308b2f",
   "metadata": {},
   "outputs": [],
   "source": [
    "##Ans.20:-re.compile('^\\d{1,3}(,\\d{3})*$') will create this regex,but other regex strings can produce a similar regular expression"
   ]
  },
  {
   "cell_type": "code",
   "execution_count": 30,
   "id": "70221316",
   "metadata": {},
   "outputs": [],
   "source": [
    "##Ans.21:-re.compile(r'[A-Z][a-z]*\\sWatanabe')"
   ]
  },
  {
   "cell_type": "code",
   "execution_count": null,
   "id": "96a364c9",
   "metadata": {},
   "outputs": [],
   "source": [
    "##Ans.22:-re.compile(r'(Alice|Bob|Carol)\\s(eats|pets|throws)\\s(apples|cats|baseballs)\\.',re.IGNORECASE)"
   ]
  }
 ],
 "metadata": {
  "kernelspec": {
   "display_name": "Python 3 (ipykernel)",
   "language": "python",
   "name": "python3"
  },
  "language_info": {
   "codemirror_mode": {
    "name": "ipython",
    "version": 3
   },
   "file_extension": ".py",
   "mimetype": "text/x-python",
   "name": "python",
   "nbconvert_exporter": "python",
   "pygments_lexer": "ipython3",
   "version": "3.9.7"
  }
 },
 "nbformat": 4,
 "nbformat_minor": 5
}
