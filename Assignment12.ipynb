{
 "cells": [
  {
   "cell_type": "code",
   "execution_count": 1,
   "id": "e18dc576",
   "metadata": {},
   "outputs": [],
   "source": [
    "##Ans.1:- This file will be opened in binary mode,read  binary PdfFileReader() and write binary for PdfFilewriter()"
   ]
  },
  {
   "cell_type": "code",
   "execution_count": 2,
   "id": "40815f14",
   "metadata": {},
   "outputs": [],
   "source": [
    "##Ans.2:-From a pdf file reader we can get a page object by calling get page(5) and pass it the page 5. "
   ]
  },
  {
   "cell_type": "code",
   "execution_count": 3,
   "id": "7b072250",
   "metadata": {},
   "outputs": [],
   "source": [
    "##Ans.3:-Yes PdfFile Reader variable stores the number no of pages in the PDF document"
   ]
  },
  {
   "cell_type": "code",
   "execution_count": 4,
   "id": "e504ded4",
   "metadata": {},
   "outputs": [],
   "source": [
    "#Ans.4:-Call descrypt('swordfish')"
   ]
  },
  {
   "cell_type": "code",
   "execution_count": 5,
   "id": "91765611",
   "metadata": {},
   "outputs": [],
   "source": [
    "#Ans.5:-To rotate a page we use\"Ctrl+Shift +l\" or \"Ctrl + Shift +R\" method."
   ]
  },
  {
   "cell_type": "code",
   "execution_count": 6,
   "id": "2647ceb6",
   "metadata": {},
   "outputs": [],
   "source": [
    "#Ans.6:-Paragraph object:-A document contains multiple paragraphs.A Paragraphs begins on a new line ad contains multiple runs.The document objects contains a list of paragraph for the paragraph in the document.\n",
    "#       Run object : Runs are contiguous group of character within a paragraph with same style."
   ]
  },
  {
   "cell_type": "code",
   "execution_count": 7,
   "id": "0760a79f",
   "metadata": {},
   "outputs": [],
   "source": [
    "#Ans.7:-By using doc.paragraphs"
   ]
  },
  {
   "cell_type": "code",
   "execution_count": 8,
   "id": "62fe0ab3",
   "metadata": {},
   "outputs": [],
   "source": [
    "##Ans.8:-A run object has bold,underline,strike and outline variable."
   ]
  },
  {
   "cell_type": "code",
   "execution_count": 9,
   "id": "3e5faca3",
   "metadata": {},
   "outputs": [],
   "source": [
    "#Ans.9:-True always makes the run object bolded and False makes it always not bolded ,None will make the run object ."
   ]
  },
  {
   "cell_type": "code",
   "execution_count": 10,
   "id": "8010ccaf",
   "metadata": {},
   "outputs": [],
   "source": [
    "#Ans.10:-BY using  docx.Document() function we create a document object"
   ]
  },
  {
   "cell_type": "code",
   "execution_count": 12,
   "id": "56db094a",
   "metadata": {},
   "outputs": [],
   "source": [
    "#Ans.11:-By Using import docx:\n",
    "#            doc = docx.Document()\n",
    "#           doc.add_paragraph('hello there!'')\n",
    "#           doc.save('hellothere.docx')"
   ]
  },
  {
   "cell_type": "code",
   "execution_count": 13,
   "id": "c9ae8617",
   "metadata": {},
   "outputs": [],
   "source": [
    "##Ans.12:-0-4 integer represents the level of heading text available in words document.0 makes the heading the Title style which is used for the top of documents and integers 1-4 are used for various heading level in which 1  is the main heading and 4 is the lowest subheading."
   ]
  },
  {
   "cell_type": "code",
   "execution_count": null,
   "id": "485267ea",
   "metadata": {},
   "outputs": [],
   "source": []
  }
 ],
 "metadata": {
  "kernelspec": {
   "display_name": "Python 3 (ipykernel)",
   "language": "python",
   "name": "python3"
  },
  "language_info": {
   "codemirror_mode": {
    "name": "ipython",
    "version": 3
   },
   "file_extension": ".py",
   "mimetype": "text/x-python",
   "name": "python",
   "nbconvert_exporter": "python",
   "pygments_lexer": "ipython3",
   "version": "3.9.7"
  }
 },
 "nbformat": 4,
 "nbformat_minor": 5
}
