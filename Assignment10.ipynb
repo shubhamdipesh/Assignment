{
 "cells": [
  {
   "cell_type": "code",
   "execution_count": 1,
   "id": "c89cbbe1",
   "metadata": {},
   "outputs": [],
   "source": [
    "##Ans.1:- shutil.copy() will copy a single file but shultle.copytree() will copy  an entitre folder in which every file and folder are contained in it."
   ]
  },
  {
   "cell_type": "code",
   "execution_count": 2,
   "id": "1104cbb7",
   "metadata": {},
   "outputs": [],
   "source": [
    "##Ans.2:-rename() function is used to rename the file"
   ]
  },
  {
   "cell_type": "code",
   "execution_count": 3,
   "id": "3d10c903",
   "metadata": {},
   "outputs": [],
   "source": [
    "##Ans.3:- the difference between the delete funcions in the send2trash and shutil modules are as follows:-\n",
    "##  the send2 trash functions will move a file or folder to the recycle bin while shutil fuction will delete file and folders permanently."
   ]
  },
  {
   "cell_type": "code",
   "execution_count": 4,
   "id": "3ef2e390",
   "metadata": {},
   "outputs": [],
   "source": [
    "##Ans.4:-Yes, Zip file method is equivalent to File objects open() method. The zipfile.Zipfile() function is the argumnents in which first argument is the file name and second argument is the mode to open  the ZIP file in read , write and append format"
   ]
  },
  {
   "cell_type": "code",
   "execution_count": null,
   "id": "64dac5e8",
   "metadata": {},
   "outputs": [],
   "source": []
  }
 ],
 "metadata": {
  "kernelspec": {
   "display_name": "Python 3 (ipykernel)",
   "language": "python",
   "name": "python3"
  },
  "language_info": {
   "codemirror_mode": {
    "name": "ipython",
    "version": 3
   },
   "file_extension": ".py",
   "mimetype": "text/x-python",
   "name": "python",
   "nbconvert_exporter": "python",
   "pygments_lexer": "ipython3",
   "version": "3.9.7"
  }
 },
 "nbformat": 4,
 "nbformat_minor": 5
}
