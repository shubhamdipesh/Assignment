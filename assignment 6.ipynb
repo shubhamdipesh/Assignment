{
 "cells": [
  {
   "cell_type": "markdown",
   "id": "f09a8254",
   "metadata": {},
   "source": [
    "Q.7: the value of given expression is as follow:\n",
    "'Hello'.upper()= 'HELLO'\n",
    "'Hello'.upper().isupper() = True\n",
    "'Hello'.upper().lower() = 'hello'"
   ]
  },
  {
   "cell_type": "markdown",
   "id": "adad27e7",
   "metadata": {},
   "source": [
    "Q.6: the value of given expression are as folow:\n",
    "'Hello,world!'[1] = 'e'\n",
    "'Hello,world!'[0:5] = 'Hello'\n",
    "'Hello,world!'[:5] = 'Hello'\n",
    "'Hello,world!'[3:] = 'lo,world'"
   ]
  },
  {
   "cell_type": "code",
   "execution_count": null,
   "id": "9f76ed91",
   "metadata": {},
   "outputs": [],
   "source": []
  }
 ],
 "metadata": {
  "kernelspec": {
   "display_name": "Python 3 (ipykernel)",
   "language": "python",
   "name": "python3"
  },
  "language_info": {
   "codemirror_mode": {
    "name": "ipython",
    "version": 3
   },
   "file_extension": ".py",
   "mimetype": "text/x-python",
   "name": "python",
   "nbconvert_exporter": "python",
   "pygments_lexer": "ipython3",
   "version": "3.9.7"
  }
 },
 "nbformat": 4,
 "nbformat_minor": 5
}
