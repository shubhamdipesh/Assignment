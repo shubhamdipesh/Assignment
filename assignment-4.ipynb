{
 "cells": [
  {
   "cell_type": "markdown",
   "id": "b3419256",
   "metadata": {},
   "source": [
    "ans-1: [] is the symbol of list when we create a list then we use []"
   ]
  },
  {
   "cell_type": "markdown",
   "id": "6dff5aa5",
   "metadata": {},
   "source": [
    "ans-11 remove and discard are the two method for removing items from a list"
   ]
  },
  {
   "cell_type": "markdown",
   "id": "d853f833",
   "metadata": {},
   "source": [
    "ans-13 tuples:- for tuple we use normal bracket.in other we we can say that the element stored in a place is called tuples example of tuple:(1,2,3,4,5).\n",
    "list:- list is the collection of characters.for list we use [] symbol\n",
    "example of list :-[2,3,4,5]"
   ]
  },
  {
   "cell_type": "markdown",
   "id": "2b720e54",
   "metadata": {},
   "source": [
    "ans-14 'by using (42,) we type tuple value for example if a = (42,) then the type a is called tuple"
   ]
  },
  {
   "cell_type": "markdown",
   "id": "601d4d8e",
   "metadata": {},
   "source": [
    "ans -15 by using list(a,b,c,d) = [a,b,c,d] and by using tuple[1,2,3,4] = (1,2,3,4)"
   ]
  },
  {
   "cell_type": "markdown",
   "id": "7ac04b9f",
   "metadata": {},
   "source": [
    "ans.10 list methods append() means that add the element at the last position of a list\n",
    "       for example l = [1,2,3,\"shubham\",90] if l.append(\"dipesh\") then l = [1,2,3,\"shubham\" ,90 ,\"dipesh]  and list method insert() means  insert the specific element at our  required place\n",
    "         for exapmle  l = [1,2,3,4] ,l.insert(5,8) means at the 5th position we add 8 means l = [1, 2, 3, 4, 8]"
   ]
  },
  {
   "cell_type": "code",
   "execution_count": null,
   "id": "ce35a9e4",
   "metadata": {},
   "outputs": [],
   "source": []
  }
 ],
 "metadata": {
  "kernelspec": {
   "display_name": "Python 3 (ipykernel)",
   "language": "python",
   "name": "python3"
  },
  "language_info": {
   "codemirror_mode": {
    "name": "ipython",
    "version": 3
   },
   "file_extension": ".py",
   "mimetype": "text/x-python",
   "name": "python",
   "nbconvert_exporter": "python",
   "pygments_lexer": "ipython3",
   "version": "3.9.7"
  }
 },
 "nbformat": 4,
 "nbformat_minor": 5
}
