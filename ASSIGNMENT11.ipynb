{
 "cells": [
  {
   "cell_type": "code",
   "execution_count": 1,
   "id": "978e77d5",
   "metadata": {},
   "outputs": [],
   "source": [
    "##Ans.1:- assert spam <= 0 ,the spam variable is a negative integer"
   ]
  },
  {
   "cell_type": "code",
   "execution_count": 2,
   "id": "ba9b04b7",
   "metadata": {},
   "outputs": [],
   "source": [
    "##Ans.2:-assert eggs.lower()! = bacon.lower() ,'The eggs and bacons variable are same'! or assert eggs.upper() = bacon.upper() ,'The eggs and  bacon variables are the same'"
   ]
  },
  {
   "cell_type": "code",
   "execution_count": 3,
   "id": "03ef44d2",
   "metadata": {},
   "outputs": [],
   "source": [
    "##Ans.3:- assert False ,'The assertion always triggers'"
   ]
  },
  {
   "cell_type": "code",
   "execution_count": 1,
   "id": "84b17f97",
   "metadata": {},
   "outputs": [],
   "source": [
    "##Ans.4:-The two lines that must be present in our software are as follows:\n",
    "#        import logging\n",
    "#        logging.basicconfig(level = logging.DEBUG,format = '%)(asctime)s-%(levelname)s -%(message)s')         "
   ]
  },
  {
   "cell_type": "code",
   "execution_count": 2,
   "id": "fdac8e8f",
   "metadata": {},
   "outputs": [],
   "source": [
    "##Ans.5:-import logging\n",
    "#        logging. basicConfig(filename = 'programLog.txt' ,level =logging.DEBUG ,\n",
    "#      format = '%(acstime)s -%(levelname)s -%(message)s')                            )"
   ]
  },
  {
   "cell_type": "code",
   "execution_count": 3,
   "id": "5c7d20a0",
   "metadata": {},
   "outputs": [],
   "source": [
    "##Ans.6:-The five levels of logging are as follows-\n",
    "#       1.DEBUG ,2.INFO,3.WARNING ,4.EROR,5.CRITICAL"
   ]
  },
  {
   "cell_type": "code",
   "execution_count": 5,
   "id": "1b3b9621",
   "metadata": {},
   "outputs": [],
   "source": [
    "##Ans.7:- logging.disable(logging.CRITICAL)"
   ]
  },
  {
   "cell_type": "code",
   "execution_count": 6,
   "id": "26ba45ea",
   "metadata": {},
   "outputs": [],
   "source": [
    "#Ans.8:-we can disable logging messages without removing the logging function calls.we can disable lower level logging messages selectively,we can create logging messages,logging messages provide a timestamp"
   ]
  },
  {
   "cell_type": "code",
   "execution_count": 7,
   "id": "c3762bfb",
   "metadata": {},
   "outputs": [],
   "source": [
    "##Ans.9:-Step over will tell the debugger to excecute the next function and breakafterwards ,Step In will cause the debugger to go in the next function and Step Out will tell the debugger to finidh the current function and break after it"
   ]
  },
  {
   "cell_type": "code",
   "execution_count": 8,
   "id": "1b539a0a",
   "metadata": {},
   "outputs": [],
   "source": [
    "##Ans.10:-After you click Continue , the debugger will stop when it has reached the end of the program or a line with a break point"
   ]
  },
  {
   "cell_type": "code",
   "execution_count": 9,
   "id": "73da506f",
   "metadata": {},
   "outputs": [],
   "source": [
    "##Ans.11  A breakpoint is a setting on a line of code that causes the debugger to pause when the program excecution reaches the line."
   ]
  },
  {
   "cell_type": "code",
   "execution_count": null,
   "id": "c73efb73",
   "metadata": {},
   "outputs": [],
   "source": []
  }
 ],
 "metadata": {
  "kernelspec": {
   "display_name": "Python 3 (ipykernel)",
   "language": "python",
   "name": "python3"
  },
  "language_info": {
   "codemirror_mode": {
    "name": "ipython",
    "version": 3
   },
   "file_extension": ".py",
   "mimetype": "text/x-python",
   "name": "python",
   "nbconvert_exporter": "python",
   "pygments_lexer": "ipython3",
   "version": "3.9.7"
  }
 },
 "nbformat": 4,
 "nbformat_minor": 5
}
