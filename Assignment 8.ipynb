{
 "cells": [
  {
   "cell_type": "code",
   "execution_count": 4,
   "id": "3c1b2b74",
   "metadata": {},
   "outputs": [],
   "source": [
    "##Ans.1 :-yes python standard library included pyInputplus using pip command i.e. !pip install pyInputplus"
   ]
  },
  {
   "cell_type": "code",
   "execution_count": 10,
   "id": "02595217",
   "metadata": {},
   "outputs": [],
   "source": [
    "#Ans.2:- for using different type of input function like input(str) ,input(int) ,input(float)e.t.c we use import pyInputplus as pypi"
   ]
  },
  {
   "cell_type": "code",
   "execution_count": 11,
   "id": "0856c595",
   "metadata": {},
   "outputs": [],
   "source": [
    "#Ans.3:- input(int) means the input value should be integer like 2,3,4,5 and input(float)  means the input value should be floating point number like 2.0,23.45 ,78.8 ,90.0"
   ]
  },
  {
   "cell_type": "code",
   "execution_count": 12,
   "id": "4509cbb4",
   "metadata": {},
   "outputs": [],
   "source": [
    "#Ans.7:-If a blank input is entered three times,we will get outcome as a  sting valueinput(str(()))"
   ]
  },
  {
   "cell_type": "code",
   "execution_count": 13,
   "id": "bce81581",
   "metadata": {},
   "outputs": [],
   "source": [
    "#Ans.5:- list of regular expression strings transfered to the keyword arguments allowRegexes and bockRegexes to  ensure that pyInplus will accept or reject"
   ]
  },
  {
   "cell_type": "code",
   "execution_count": null,
   "id": "d05cbab5",
   "metadata": {},
   "outputs": [],
   "source": []
  }
 ],
 "metadata": {
  "kernelspec": {
   "display_name": "Python 3 (ipykernel)",
   "language": "python",
   "name": "python3"
  },
  "language_info": {
   "codemirror_mode": {
    "name": "ipython",
    "version": 3
   },
   "file_extension": ".py",
   "mimetype": "text/x-python",
   "name": "python",
   "nbconvert_exporter": "python",
   "pygments_lexer": "ipython3",
   "version": "3.9.7"
  }
 },
 "nbformat": 4,
 "nbformat_minor": 5
}
