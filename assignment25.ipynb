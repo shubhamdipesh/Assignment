{
 "cells": [
  {
   "cell_type": "markdown",
   "id": "35432f04",
   "metadata": {},
   "source": [
    "Ans.2:-Iterator is the type of function in which we acces the element one by one and generataor is a kind of object which will be able to generate a data set for all of us."
   ]
  },
  {
   "cell_type": "markdown",
   "id": "a6365d51",
   "metadata": {},
   "source": [
    "Ans.3 :-def(gen) is the sign of generator function"
   ]
  },
  {
   "cell_type": "markdown",
   "id": "62ec1856",
   "metadata": {},
   "source": [
    "Ans.4- The purpose of yield statement is to convert a function as a generator"
   ]
  },
  {
   "cell_type": "code",
   "execution_count": null,
   "id": "effd9fbf",
   "metadata": {},
   "outputs": [],
   "source": []
  }
 ],
 "metadata": {
  "kernelspec": {
   "display_name": "Python 3 (ipykernel)",
   "language": "python",
   "name": "python3"
  },
  "language_info": {
   "codemirror_mode": {
    "name": "ipython",
    "version": 3
   },
   "file_extension": ".py",
   "mimetype": "text/x-python",
   "name": "python",
   "nbconvert_exporter": "python",
   "pygments_lexer": "ipython3",
   "version": "3.9.7"
  }
 },
 "nbformat": 4,
 "nbformat_minor": 5
}
