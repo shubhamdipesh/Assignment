{
 "cells": [
  {
   "cell_type": "markdown",
   "id": "3fb971f3",
   "metadata": {},
   "source": [
    "Ans.1:-empty dictionary's code look like {}"
   ]
  },
  {
   "cell_type": "markdown",
   "id": "719a29c4",
   "metadata": {},
   "source": [
    "Ans.2:-value of a dictionary value with the key \"foo\" and the values 42 is :-{\"foo\":42}"
   ]
  },
  {
   "cell_type": "markdown",
   "id": "c9db91d8",
   "metadata": {},
   "source": [
    "Ans.3 -list is the data type in which we hold the element in single manner but in dictionary we use key value pair."
   ]
  },
  {
   "cell_type": "code",
   "execution_count": null,
   "id": "1c47c260",
   "metadata": {},
   "outputs": [],
   "source": []
  }
 ],
 "metadata": {
  "kernelspec": {
   "display_name": "Python 3 (ipykernel)",
   "language": "python",
   "name": "python3"
  },
  "language_info": {
   "codemirror_mode": {
    "name": "ipython",
    "version": 3
   },
   "file_extension": ".py",
   "mimetype": "text/x-python",
   "name": "python",
   "nbconvert_exporter": "python",
   "pygments_lexer": "ipython3",
   "version": "3.9.7"
  }
 },
 "nbformat": 4,
 "nbformat_minor": 5
}
