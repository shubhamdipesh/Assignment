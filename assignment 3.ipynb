{
 "cells": [
  {
   "cell_type": "markdown",
   "id": "6c60c70d",
   "metadata": {},
   "source": [
    "Ans.-2. when its called then thae code in a function run/"
   ]
  },
  {
   "cell_type": "markdown",
   "id": "310fe95e",
   "metadata": {},
   "source": [
    "Ans.13. Yes,we can save a programme from crashing if it encounters an eror"
   ]
  },
  {
   "cell_type": "markdown",
   "id": "84236694",
   "metadata": {},
   "source": [
    "Ans.3.def,print and return keyword create a function.\n",
    "for example:-def test1():\n",
    "                 print(\"shubham)\n",
    "      "
   ]
  },
  {
   "cell_type": "markdown",
   "id": "33a8e14e",
   "metadata": {},
   "source": [
    "Ans.4.In a function when we write systematic keyword of any local variable and def,return and print keyword but in fuction call we write function name it means when we use def a,b: then a,b is called a function call"
   ]
  },
  {
   "cell_type": "markdown",
   "id": "5ba6a619",
   "metadata": {},
   "source": [
    "Ans.7. Concept of return value:-return value means the value of function call it means when we use return keyword then function will excecute the the value of function call. for example: def test(a):\n",
    "                                                                         a= 8*7/7\n",
    "                                                                         return a\n",
    "                                                                         test(a)=8"
   ]
  },
  {
   "cell_type": "markdown",
   "id": "b987946e",
   "metadata": {},
   "source": [
    "Ans.6. -when the function call returns then the function will pass the all the variables."
   ]
  },
  {
   "cell_type": "markdown",
   "id": "b6b98e45",
   "metadata": {},
   "source": [
    "Ans.10 if the variable is neither string nor float,complext and integer then this data type is called none data type"
   ]
  },
  {
   "cell_type": "markdown",
   "id": "359cfd7a",
   "metadata": {},
   "source": [
    "Ans.13.Yes,we can save a programme from crashing if it encounters an eror"
   ]
  },
  {
   "cell_type": "markdown",
   "id": "53ed0307",
   "metadata": {},
   "source": [
    "Ans.14.- Purpose of try block:- try block  use to pass  all the variables.\n",
    "         Purpose of except block:-except block use to handle all the eror in function.\n",
    "         example : try:\n",
    "                       a = int(input())\n",
    "                       b = int(input())\n",
    "                 except Exception as e:\n",
    "                        print(\"my name is dipesh rai)\n",
    "         "
   ]
  },
  {
   "cell_type": "markdown",
   "id": "574fdac3",
   "metadata": {},
   "source": [
    "Ans.8. If a function does not have a return statement then we can excecute the return value of a call to that function"
   ]
  },
  {
   "cell_type": "code",
   "execution_count": null,
   "id": "7bcea71d",
   "metadata": {},
   "outputs": [],
   "source": []
  }
 ],
 "metadata": {
  "kernelspec": {
   "display_name": "Python 3 (ipykernel)",
   "language": "python",
   "name": "python3"
  },
  "language_info": {
   "codemirror_mode": {
    "name": "ipython",
    "version": 3
   },
   "file_extension": ".py",
   "mimetype": "text/x-python",
   "name": "python",
   "nbconvert_exporter": "python",
   "pygments_lexer": "ipython3",
   "version": "3.9.7"
  }
 },
 "nbformat": 4,
 "nbformat_minor": 5
}
